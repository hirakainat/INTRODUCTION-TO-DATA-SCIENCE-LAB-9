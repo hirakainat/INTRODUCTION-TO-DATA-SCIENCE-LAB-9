{
 "cells": [
  {
   "cell_type": "code",
   "execution_count": 6,
   "id": "c19a86f0",
   "metadata": {},
   "outputs": [
    {
     "name": "stdout",
     "output_type": "stream",
     "text": [
      "Requirement already satisfied: numpy in c:\\programdata\\anaconda3\\lib\\site-packages (1.20.1)\n",
      "Requirement already satisfied: pandas in c:\\programdata\\anaconda3\\lib\\site-packages (1.2.4)\n",
      "Requirement already satisfied: python-dateutil>=2.7.3 in c:\\programdata\\anaconda3\\lib\\site-packages (from pandas) (2.8.1)\n",
      "Requirement already satisfied: numpy>=1.16.5 in c:\\programdata\\anaconda3\\lib\\site-packages (from pandas) (1.20.1)\n",
      "Requirement already satisfied: pytz>=2017.3 in c:\\programdata\\anaconda3\\lib\\site-packages (from pandas) (2021.1)\n",
      "Requirement already satisfied: six>=1.5 in c:\\programdata\\anaconda3\\lib\\site-packages (from python-dateutil>=2.7.3->pandas) (1.15.0)\n"
     ]
    },
    {
     "data": {
      "text/html": [
       "<div>\n",
       "<style scoped>\n",
       "    .dataframe tbody tr th:only-of-type {\n",
       "        vertical-align: middle;\n",
       "    }\n",
       "\n",
       "    .dataframe tbody tr th {\n",
       "        vertical-align: top;\n",
       "    }\n",
       "\n",
       "    .dataframe thead th {\n",
       "        text-align: right;\n",
       "    }\n",
       "</style>\n",
       "<table border=\"1\" class=\"dataframe\">\n",
       "  <thead>\n",
       "    <tr style=\"text-align: right;\">\n",
       "      <th></th>\n",
       "      <th>PassengerId</th>\n",
       "      <th>Survived</th>\n",
       "      <th>Pclass</th>\n",
       "      <th>Name</th>\n",
       "      <th>Sex</th>\n",
       "      <th>Age</th>\n",
       "      <th>SibSp</th>\n",
       "      <th>Parch</th>\n",
       "      <th>Ticket</th>\n",
       "      <th>Fare</th>\n",
       "      <th>Cabin</th>\n",
       "      <th>Embarked</th>\n",
       "    </tr>\n",
       "  </thead>\n",
       "  <tbody>\n",
       "    <tr>\n",
       "      <th>0</th>\n",
       "      <td>1</td>\n",
       "      <td>0</td>\n",
       "      <td>3</td>\n",
       "      <td>Braund, Mr. Owen Harris</td>\n",
       "      <td>male</td>\n",
       "      <td>22.0</td>\n",
       "      <td>1</td>\n",
       "      <td>0</td>\n",
       "      <td>A/5 21171</td>\n",
       "      <td>7.2500</td>\n",
       "      <td>NaN</td>\n",
       "      <td>S</td>\n",
       "    </tr>\n",
       "    <tr>\n",
       "      <th>1</th>\n",
       "      <td>2</td>\n",
       "      <td>1</td>\n",
       "      <td>1</td>\n",
       "      <td>Cumings, Mrs. John Bradley (Florence Briggs Th...</td>\n",
       "      <td>female</td>\n",
       "      <td>38.0</td>\n",
       "      <td>1</td>\n",
       "      <td>0</td>\n",
       "      <td>PC 17599</td>\n",
       "      <td>71.2833</td>\n",
       "      <td>C85</td>\n",
       "      <td>C</td>\n",
       "    </tr>\n",
       "    <tr>\n",
       "      <th>2</th>\n",
       "      <td>3</td>\n",
       "      <td>1</td>\n",
       "      <td>3</td>\n",
       "      <td>Heikkinen, Miss. Laina</td>\n",
       "      <td>female</td>\n",
       "      <td>26.0</td>\n",
       "      <td>0</td>\n",
       "      <td>0</td>\n",
       "      <td>STON/O2. 3101282</td>\n",
       "      <td>7.9250</td>\n",
       "      <td>NaN</td>\n",
       "      <td>S</td>\n",
       "    </tr>\n",
       "    <tr>\n",
       "      <th>3</th>\n",
       "      <td>4</td>\n",
       "      <td>1</td>\n",
       "      <td>1</td>\n",
       "      <td>Futrelle, Mrs. Jacques Heath (Lily May Peel)</td>\n",
       "      <td>female</td>\n",
       "      <td>35.0</td>\n",
       "      <td>1</td>\n",
       "      <td>0</td>\n",
       "      <td>113803</td>\n",
       "      <td>53.1000</td>\n",
       "      <td>C123</td>\n",
       "      <td>S</td>\n",
       "    </tr>\n",
       "    <tr>\n",
       "      <th>4</th>\n",
       "      <td>5</td>\n",
       "      <td>0</td>\n",
       "      <td>3</td>\n",
       "      <td>Allen, Mr. William Henry</td>\n",
       "      <td>male</td>\n",
       "      <td>35.0</td>\n",
       "      <td>0</td>\n",
       "      <td>0</td>\n",
       "      <td>373450</td>\n",
       "      <td>8.0500</td>\n",
       "      <td>NaN</td>\n",
       "      <td>S</td>\n",
       "    </tr>\n",
       "    <tr>\n",
       "      <th>...</th>\n",
       "      <td>...</td>\n",
       "      <td>...</td>\n",
       "      <td>...</td>\n",
       "      <td>...</td>\n",
       "      <td>...</td>\n",
       "      <td>...</td>\n",
       "      <td>...</td>\n",
       "      <td>...</td>\n",
       "      <td>...</td>\n",
       "      <td>...</td>\n",
       "      <td>...</td>\n",
       "      <td>...</td>\n",
       "    </tr>\n",
       "    <tr>\n",
       "      <th>886</th>\n",
       "      <td>887</td>\n",
       "      <td>0</td>\n",
       "      <td>2</td>\n",
       "      <td>Montvila, Rev. Juozas</td>\n",
       "      <td>male</td>\n",
       "      <td>27.0</td>\n",
       "      <td>0</td>\n",
       "      <td>0</td>\n",
       "      <td>211536</td>\n",
       "      <td>13.0000</td>\n",
       "      <td>NaN</td>\n",
       "      <td>S</td>\n",
       "    </tr>\n",
       "    <tr>\n",
       "      <th>887</th>\n",
       "      <td>888</td>\n",
       "      <td>1</td>\n",
       "      <td>1</td>\n",
       "      <td>Graham, Miss. Margaret Edith</td>\n",
       "      <td>female</td>\n",
       "      <td>19.0</td>\n",
       "      <td>0</td>\n",
       "      <td>0</td>\n",
       "      <td>112053</td>\n",
       "      <td>30.0000</td>\n",
       "      <td>B42</td>\n",
       "      <td>S</td>\n",
       "    </tr>\n",
       "    <tr>\n",
       "      <th>888</th>\n",
       "      <td>889</td>\n",
       "      <td>0</td>\n",
       "      <td>3</td>\n",
       "      <td>Johnston, Miss. Catherine Helen \"Carrie\"</td>\n",
       "      <td>female</td>\n",
       "      <td>NaN</td>\n",
       "      <td>1</td>\n",
       "      <td>2</td>\n",
       "      <td>W./C. 6607</td>\n",
       "      <td>23.4500</td>\n",
       "      <td>NaN</td>\n",
       "      <td>S</td>\n",
       "    </tr>\n",
       "    <tr>\n",
       "      <th>889</th>\n",
       "      <td>890</td>\n",
       "      <td>1</td>\n",
       "      <td>1</td>\n",
       "      <td>Behr, Mr. Karl Howell</td>\n",
       "      <td>male</td>\n",
       "      <td>26.0</td>\n",
       "      <td>0</td>\n",
       "      <td>0</td>\n",
       "      <td>111369</td>\n",
       "      <td>30.0000</td>\n",
       "      <td>C148</td>\n",
       "      <td>C</td>\n",
       "    </tr>\n",
       "    <tr>\n",
       "      <th>890</th>\n",
       "      <td>891</td>\n",
       "      <td>0</td>\n",
       "      <td>3</td>\n",
       "      <td>Dooley, Mr. Patrick</td>\n",
       "      <td>male</td>\n",
       "      <td>32.0</td>\n",
       "      <td>0</td>\n",
       "      <td>0</td>\n",
       "      <td>370376</td>\n",
       "      <td>7.7500</td>\n",
       "      <td>NaN</td>\n",
       "      <td>Q</td>\n",
       "    </tr>\n",
       "  </tbody>\n",
       "</table>\n",
       "<p>891 rows × 12 columns</p>\n",
       "</div>"
      ],
      "text/plain": [
       "     PassengerId  Survived  Pclass  \\\n",
       "0              1         0       3   \n",
       "1              2         1       1   \n",
       "2              3         1       3   \n",
       "3              4         1       1   \n",
       "4              5         0       3   \n",
       "..           ...       ...     ...   \n",
       "886          887         0       2   \n",
       "887          888         1       1   \n",
       "888          889         0       3   \n",
       "889          890         1       1   \n",
       "890          891         0       3   \n",
       "\n",
       "                                                  Name     Sex   Age  SibSp  \\\n",
       "0                              Braund, Mr. Owen Harris    male  22.0      1   \n",
       "1    Cumings, Mrs. John Bradley (Florence Briggs Th...  female  38.0      1   \n",
       "2                               Heikkinen, Miss. Laina  female  26.0      0   \n",
       "3         Futrelle, Mrs. Jacques Heath (Lily May Peel)  female  35.0      1   \n",
       "4                             Allen, Mr. William Henry    male  35.0      0   \n",
       "..                                                 ...     ...   ...    ...   \n",
       "886                              Montvila, Rev. Juozas    male  27.0      0   \n",
       "887                       Graham, Miss. Margaret Edith  female  19.0      0   \n",
       "888           Johnston, Miss. Catherine Helen \"Carrie\"  female   NaN      1   \n",
       "889                              Behr, Mr. Karl Howell    male  26.0      0   \n",
       "890                                Dooley, Mr. Patrick    male  32.0      0   \n",
       "\n",
       "     Parch            Ticket     Fare Cabin Embarked  \n",
       "0        0         A/5 21171   7.2500   NaN        S  \n",
       "1        0          PC 17599  71.2833   C85        C  \n",
       "2        0  STON/O2. 3101282   7.9250   NaN        S  \n",
       "3        0            113803  53.1000  C123        S  \n",
       "4        0            373450   8.0500   NaN        S  \n",
       "..     ...               ...      ...   ...      ...  \n",
       "886      0            211536  13.0000   NaN        S  \n",
       "887      0            112053  30.0000   B42        S  \n",
       "888      2        W./C. 6607  23.4500   NaN        S  \n",
       "889      0            111369  30.0000  C148        C  \n",
       "890      0            370376   7.7500   NaN        Q  \n",
       "\n",
       "[891 rows x 12 columns]"
      ]
     },
     "execution_count": 6,
     "metadata": {},
     "output_type": "execute_result"
    }
   ],
   "source": [
    "!pip install numpy\n",
    "!pip install pandas\n",
    "!pip install seaborn\n",
    "!pip install matplotlib\n",
    "import pandas as pd\n",
    "import matplotlib.pyplot as plt\n",
    "import seaborn as sns\n",
    "import numpy as np\n",
    "import pandas as pd\n",
    "df=pd.read_csv(\"train (1).csv\")\n",
    "df\n"
   ]
  },
  {
   "cell_type": "code",
   "execution_count": 12,
   "id": "bcac6999",
   "metadata": {},
   "outputs": [
    {
     "name": "stdout",
     "output_type": "stream",
     "text": [
      "   PassengerId                                               Name  \\\n",
      "0            1                            Braund, Mr. Owen Harris   \n",
      "1            2  Cumings, Mrs. John Bradley (Florence Briggs Th...   \n",
      "2            3                             Heikkinen, Miss. Laina   \n",
      "3            4       Futrelle, Mrs. Jacques Heath (Lily May Peel)   \n",
      "4            5                           Allen, Mr. William Henry   \n",
      "\n",
      "  new column information  values  \n",
      "0                    Sex    male  \n",
      "1                    Sex  female  \n",
      "2                    Sex  female  \n",
      "3                    Sex  female  \n",
      "4                    Sex    male  \n",
      "\n",
      "\n",
      "      PassengerId                                      Name  \\\n",
      "2668          887                     Montvila, Rev. Juozas   \n",
      "2669          888              Graham, Miss. Margaret Edith   \n",
      "2670          889  Johnston, Miss. Catherine Helen \"Carrie\"   \n",
      "2671          890                     Behr, Mr. Karl Howell   \n",
      "2672          891                       Dooley, Mr. Patrick   \n",
      "\n",
      "     new column information values  \n",
      "2668                   Fare   13.0  \n",
      "2669                   Fare   30.0  \n",
      "2670                   Fare  23.45  \n",
      "2671                   Fare   30.0  \n",
      "2672                   Fare   7.75  \n"
     ]
    }
   ],
   "source": [
    "df_melted=df.melt(\n",
    "id_vars=['PassengerId','Name'],\n",
    " value_vars=['Sex','Age','Fare'],\n",
    "    var_name='new column information',\n",
    "    value_name='values'\n",
    ")\n",
    "print(df_melted.head(5))\n",
    "print(\"\\n\")\n",
    "print(df_melted.tail(5))"
   ]
  },
  {
   "cell_type": "code",
   "execution_count": 13,
   "id": "e791dba9",
   "metadata": {},
   "outputs": [
    {
     "name": "stdout",
     "output_type": "stream",
     "text": [
      "   PassengerId new column information values\n",
      "0            1               Survived      0\n",
      "1            2               Survived      1\n",
      "2            3               Survived      1\n",
      "3            4               Survived      1\n",
      "4            5               Survived      0\n",
      "\n",
      "\n",
      "      PassengerId new column information values\n",
      "2668          887               Embarked      S\n",
      "2669          888               Embarked      S\n",
      "2670          889               Embarked      S\n",
      "2671          890               Embarked      C\n",
      "2672          891               Embarked      Q\n"
     ]
    }
   ],
   "source": [
    "df_melted=df.melt(\n",
    "id_vars=['PassengerId'],\n",
    " value_vars=['Survived','Pclass','Embarked'],\n",
    "    var_name='new column information',\n",
    "    value_name='values'\n",
    ")\n",
    "print(df_melted.head(5))\n",
    "print(\"\\n\")\n",
    "print(df_melted.tail(5))"
   ]
  },
  {
   "cell_type": "code",
   "execution_count": 14,
   "id": "5a378ddc",
   "metadata": {},
   "outputs": [
    {
     "name": "stdout",
     "output_type": "stream",
     "text": [
      "   PassengerId new column information  values\n",
      "0            1                  SibSp       1\n",
      "1            2                  SibSp       1\n",
      "2            3                  SibSp       0\n",
      "3            4                  SibSp       1\n",
      "4            5                  SibSp       0\n",
      "\n",
      "\n",
      "      PassengerId new column information  values\n",
      "1777          887                  Parch       0\n",
      "1778          888                  Parch       0\n",
      "1779          889                  Parch       2\n",
      "1780          890                  Parch       0\n",
      "1781          891                  Parch       0\n"
     ]
    }
   ],
   "source": [
    "df_melted=df.melt(\n",
    "id_vars=['PassengerId'],\n",
    " value_vars=['SibSp','Parch'],\n",
    "    var_name='new column information',\n",
    "    value_name='values'\n",
    ")\n",
    "print(df_melted.head(5))\n",
    "print(\"\\n\")\n",
    "print(df_melted.tail(5))"
   ]
  },
  {
   "cell_type": "code",
   "execution_count": 15,
   "id": "da5d2cd6",
   "metadata": {},
   "outputs": [
    {
     "name": "stdout",
     "output_type": "stream",
     "text": [
      "Sex\n",
      "female    0.742038\n",
      "male      0.188908\n",
      "Name: Survived, dtype: float64\n"
     ]
    }
   ],
   "source": [
    "#group by sex and calculate the survival rate\n",
    "mean_survival=df.groupby('Sex')['Survived'].mean()\n",
    "print(mean_survival)"
   ]
  },
  {
   "cell_type": "code",
   "execution_count": 16,
   "id": "f27173d5",
   "metadata": {},
   "outputs": [
    {
     "name": "stdout",
     "output_type": "stream",
     "text": [
      "Pclass\n",
      "1    84.154687\n",
      "2    20.662183\n",
      "3    13.675550\n",
      "Name: Fare, dtype: float64\n"
     ]
    }
   ],
   "source": [
    "#group by pclass and calculate the fare rate\n",
    "mean_survival=df.groupby('Pclass')['Fare'].mean()\n",
    "print(mean_survival)"
   ]
  },
  {
   "cell_type": "code",
   "execution_count": 17,
   "id": "12220dae",
   "metadata": {},
   "outputs": [
    {
     "name": "stdout",
     "output_type": "stream",
     "text": [
      "Embarked\n",
      "C     93\n",
      "Q     30\n",
      "S    217\n",
      "Name: Survived, dtype: int64\n"
     ]
    }
   ],
   "source": [
    "#group by pclass and calculate the fare rate\n",
    "sum_survival=df.groupby('Embarked')['Survived'].sum()\n",
    "print(sum_survival)"
   ]
  },
  {
   "cell_type": "code",
   "execution_count": 19,
   "id": "27f2d805",
   "metadata": {},
   "outputs": [
    {
     "name": "stdout",
     "output_type": "stream",
     "text": [
      "Pclass         1         2         3\n",
      "Sex                                 \n",
      "female  0.968085  0.921053  0.500000\n",
      "male    0.368852  0.157407  0.135447\n"
     ]
    }
   ],
   "source": [
    "pivot_fill=df.pivot_table(values='Survived',index='Sex',columns='Pclass',aggfunc='mean')\n",
    "print(pivot_fill)\n",
    "\n",
    "pivot_fill=df.pivot_table(values='Fare',index='Sex',columns='Embarked',aggfunc='mean')\n",
    "print(pivot_fill)\n",
    "\n",
    "pivot_fill=df.pivot_table(values='Fare',index='Embarked',columns='Sex',aggfunc='mean')\n",
    "print(pivot_fill)\n",
    "\n",
    "pivot_fill=df.pivot_table(values='PassengerId',index='Pclass',columns='Survived',aggfunc='count')\n",
    "print(pivot_fill)\n",
    "\n",
    "\n",
    "# Dataset Size\n",
    "num_rows, num_cols =df.shape\n",
    "print(f\"Dataset size: {num_rows} rows and {num_cols} columns\")\n",
    "\n",
    "# Missing Values\n",
    "missing_values_per_column = df.isnull().sum()\n",
    "percentage_missing = (missing_values_per_column / len(df)) * 100\n",
    "\n",
    "missing_data_summary = pd.DataFrame({\n",
    "    'Missing Values': missing_values_per_column,\n",
    "    'Percentage Missing': percentage_missing\n",
    "})\n",
    "\n",
    "print(\"\\nMissing Data Summary:\")\n",
    "print(missing_data_summary[missing_data_summary['Missing Values'] > 0])\n",
    "\n",
    "import pandas as pd\n",
    "import matplotlib.pyplot as plt\n",
    "import seaborn as sns\n",
    "\n",
    "# Load the dataset (assuming 'train.csv' is in your current directory)\n",
    "try:\n",
    "    df = pd.read_csv('train (1).csv')\n",
    "except FileNotFoundError:\n",
    "    print(\"Error: 'train.csv' not found. Please upload the file or correct the path.\")\n",
    "    exit()\n",
    "\n",
    "\n",
    "# Passenger Class Distribution\n",
    "pclass_counts = df['Pclass'].value_counts()\n",
    "print(\"Passenger Class Distribution:\")\n",
    "print(pclass_counts)\n",
    "plt.figure(figsize=(8, 6))\n",
    "sns.countplot(x='Pclass', data=df)\n",
    "plt.title('Distribution of Passengers Across Different Passenger Classes')\n",
    "plt.xlabel('Passenger Class')\n",
    "plt.ylabel('Number of Passengers')\n",
    "plt.show()\n",
    "\n",
    "# Age Distribution\n",
    "print(\"\\nAge Distribution:\")\n",
    "print(df['Age'].describe())\n",
    "plt.figure(figsize=(10, 6))\n",
    "sns.histplot(df['Age'].dropna(), kde=True)\n",
    "plt.title('Age Distribution of Passengers')\n",
    "plt.xlabel('Age')\n",
    "plt.ylabel('Number of Passengers')\n",
    "plt.show()\n",
    "\n",
    "# Gender Distribution\n",
    "gender_counts = df['Sex'].value_counts()\n",
    "print(\"\\nGender Distribution:\")\n",
    "print(gender_counts)\n",
    "plt.figure(figsize=(6, 6))\n",
    "df['Sex'].value_counts().plot(kind='pie', autopct='%1.1f%%')\n",
    "plt.title('Gender Distribution of Passengers')\n",
    "plt.ylabel('')  \n",
    "plt.show()\n",
    "\n",
    "\n",
    "# Combined Table for Passenger Demographics\n",
    "demographics_table = pd.DataFrame({\n",
    "    'Passenger Class': pclass_counts.index,\n",
    "    'Count': pclass_counts.values,\n",
    "    'Age Mean': df.groupby('Pclass')['Age'].mean(),\n",
    "    'Age Median': df.groupby('Pclass')['Age'].median(),\n",
    "    'Male Count': df[df['Sex'] == 'male'].groupby('Pclass')['Sex'].count(),\n",
    "    'Female Count': df[df['Sex'] == 'female'].groupby('Pclass')['Sex'].count()\n",
    "\n",
    "})\n",
    "print(\"\\nPassenger Demographics Table:\")\n",
    "demographics_table\n"
   ]
  },
  {
   "cell_type": "code",
   "execution_count": 36,
   "id": "b92eaf7b",
   "metadata": {},
   "outputs": [
    {
     "name": "stdout",
     "output_type": "stream",
     "text": [
      "Overall Survival Rate: 38.38%\n",
      "\n",
      "Survival Rate by Passenger Class:\n",
      "Pclass\n",
      "1    0.629630\n",
      "2    0.472826\n",
      "3    0.242363\n",
      "Name: Survived, dtype: float64\n"
     ]
    },
    {
     "data": {
      "image/png": "[encoded data removed]",
      "text/plain": [
       "<Figure size 576x432 with 1 Axes>"
      ]
     },
     "metadata": {
      "needs_background": "light"
     },
     "output_type": "display_data"
    },
    {
     "data": {
      "image/png": "[encoded data removed]",
      "text/plain": [
       "<Figure size 720x432 with 1 Axes>"
      ]
     },
     "metadata": {
      "needs_background": "light"
     },
     "output_type": "display_data"
    },
    {
     "name": "stdout",
     "output_type": "stream",
     "text": [
      "\n",
      "Survival Rate by Gender:\n",
      "Sex\n",
      "female    0.742038\n",
      "male      0.188908\n",
      "Name: Survived, dtype: float64\n"
     ]
    },
    {
     "data": {
      "image/png": "[encoded data removed]",
      "text/plain": [
       "<Figure size 432x432 with 1 Axes>"
      ]
     },
     "metadata": {
      "needs_background": "light"
     },
     "output_type": "display_data"
    },
    {
     "name": "stdout",
     "output_type": "stream",
     "text": [
      "\n",
      "Survival Rate by Family Size:\n",
      "FamilySize\n",
      "1     0.303538\n",
      "2     0.552795\n",
      "3     0.578431\n",
      "4     0.724138\n",
      "5     0.200000\n",
      "6     0.136364\n",
      "7     0.333333\n",
      "8     0.000000\n",
      "11    0.000000\n",
      "Name: Survived, dtype: float64\n"
     ]
    },
    {
     "data": {
      "image/png": "[encoded data removed]",
      "text/plain": [
       "<Figure size 720x432 with 1 Axes>"
      ]
     },
     "metadata": {
      "needs_background": "light"
     },
     "output_type": "display_data"
    }
   ],
   "source": [
    "import pandas as pd\n",
    "import matplotlib.pyplot as plt\n",
    "import seaborn as sns\n",
    "\n",
    "# Overall Survival Rate\n",
    "overall_survival_rate = df['Survived'].mean()\n",
    "print(f\"Overall Survival Rate: {overall_survival_rate:.2%}\")\n",
    "\n",
    "# Survival Rate by Passenger Class\n",
    "survival_by_class = df.groupby('Pclass')['Survived'].mean()\n",
    "print(\"\\nSurvival Rate by Passenger Class:\")\n",
    "print(survival_by_class)\n",
    "\n",
    "plt.figure(figsize=(8, 6))\n",
    "sns.barplot(x='Pclass', y='Survived', data=df)\n",
    "plt.title('Survival Rate by Passenger Class')\n",
    "plt.xlabel('Passenger Class')\n",
    "plt.ylabel('Survival Rate')\n",
    "plt.show()\n",
    "\n",
    "\n",
    "# Survival Rate by Age\n",
    "plt.figure(figsize=(10, 6))\n",
    "sns.histplot(x='Age', hue='Survived', data=df, kde=True, element=\"step\")\n",
    "plt.title('Survival Rate by Age')\n",
    "plt.xlabel('Age')\n",
    "plt.ylabel('Survival Rate')\n",
    "plt.show()\n",
    "\n",
    "\n",
    "# Survival Rate by Gender\n",
    "survival_by_gender = df.groupby('Sex')['Survived'].mean()\n",
    "print(\"\\nSurvival Rate by Gender:\")\n",
    "print(survival_by_gender)\n",
    "\n",
    "plt.figure(figsize=(6, 6))\n",
    "sns.barplot(x='Sex', y='Survived', data=df)\n",
    "plt.title('Survival Rate by Gender')\n",
    "plt.xlabel('Gender')\n",
    "plt.ylabel('Survival Rate')\n",
    "plt.show()\n",
    "\n",
    "# Family Size and Survival\n",
    "df['FamilySize'] = df['SibSp'] + df['Parch'] + 1\n",
    "survival_by_family_size = df.groupby('FamilySize')['Survived'].mean()\n",
    "print(\"\\nSurvival Rate by Family Size:\")\n",
    "print(survival_by_family_size)\n",
    "\n",
    "plt.figure(figsize=(10, 6))\n",
    "sns.barplot(x='FamilySize', y='Survived', data=df)\n",
    "plt.title('Survival Rate by Family Size')\n",
    "plt.xlabel('Family Size')\n",
    "plt.ylabel('Survival Rate')\n",
    "plt.show()\n"
   ]
  },
  {
   "cell_type": "code",
   "execution_count": 37,
   "id": "0a649225",
   "metadata": {},
   "outputs": [
    {
     "name": "stdout",
     "output_type": "stream",
     "text": [
      "\n",
      "Ticket Fare Statistics:\n",
      "\n",
      "count    891.000000\n",
      "mean      32.204208\n",
      "std       49.693429\n",
      "min        0.000000\n",
      "25%        7.910400\n",
      "50%       14.454200\n",
      "75%       31.000000\n",
      "max      512.329200\n",
      "Name: Fare, dtype: float64\n",
      "Correlation between Fare and Pclass: -0.5494996199439078\n",
      "Survival Rate by Cabin Availability:\n",
      "HasCabin\n",
      "0    0.299854\n",
      "1    0.666667\n",
      "Name: Survived, dtype: float64\n"
     ]
    },
    {
     "data": {
      "text/plain": [
       "<AxesSubplot:xlabel='HasCabin', ylabel='Fare'>"
      ]
     },
     "execution_count": 37,
     "metadata": {},
     "output_type": "execute_result"
    },
    {
     "data": {
      "image/png": "[encoded data removed]",
      "text/plain": [
       "<Figure size 432x288 with 1 Axes>"
      ]
     },
     "metadata": {
      "needs_background": "light"
     },
     "output_type": "display_data"
    },
    {
     "data": {
      "image/png": "[encoded data removed]",
      "text/plain": [
       "<Figure size 432x288 with 1 Axes>"
      ]
     },
     "metadata": {
      "needs_background": "light"
     },
     "output_type": "display_data"
    }
   ],
   "source": [
    "fare_stats = df['Fare'].describe()\n",
    "print(\"\\nTicket Fare Statistics:\\n\")\n",
    "print(fare_stats)\n",
    "df.boxplot(column=['Fare'])\n",
    "df['Fare'].hist()\n",
    "\n",
    "fare_pclass_corr = df['Fare'].corr(df['Pclass'])\n",
    "print(f\"Correlation between Fare and Pclass: {fare_pclass_corr}\")\n",
    "df.plot.scatter(x='Pclass', y='Fare')\n",
    "\n",
    "df['HasCabin'] = df['Cabin'].notna().astype(int)\n",
    "survival_rate_by_cabin = df.groupby('HasCabin')['Survived'].mean()\n",
    "print(\"Survival Rate by Cabin Availability:\")\n",
    "print(survival_rate_by_cabin)\n",
    "survival_rate_by_cabin.plot(kind='bar')\n"
   ]
  },
  {
   "cell_type": "code",
   "execution_count": 40,
   "id": "9380f776",
   "metadata": {},
   "outputs": [
    {
     "name": "stdout",
     "output_type": "stream",
     "text": [
      "\n",
      "Distribution of Passengers by Embarkation Port:\n",
      "\n",
      "S    644\n",
      "C    168\n",
      "Q     77\n",
      "Name: Embarked, dtype: int64\n",
      "\n",
      "Survival Rate by Embarkation Port:\n",
      "\n",
      "Embarked\n",
      "C    0.553571\n",
      "Q    0.389610\n",
      "S    0.336957\n",
      "Name: Survived, dtype: float64\n"
     ]
    },
    {
     "data": {
      "text/plain": [
       "<AxesSubplot:xlabel='Embarked'>"
      ]
     },
     "execution_count": 40,
     "metadata": {},
     "output_type": "execute_result"
    },
    {
     "data": {
      "image/png": "[encoded data removed]",
      "text/plain": [
       "<Figure size 432x288 with 1 Axes>"
      ]
     },
     "metadata": {
      "needs_background": "light"
     },
     "output_type": "display_data"
    }
   ],
   "source": [
    "\n",
    "embarkation_distribution = df['Embarked'].value_counts()\n",
    "print(\"\\nDistribution of Passengers by Embarkation Port:\\n\")\n",
    "print(embarkation_distribution)\n",
    "embarkation_distribution.plot(kind='bar')\n",
    "survival_rate_by_embarkation = df.groupby('Embarked')['Survived'].mean()\n",
    "print(\"\\nSurvival Rate by Embarkation Port:\\n\")\n",
    "print(survival_rate_by_embarkation)\n",
    "survival_rate_by_embarkation.plot(kind='bar')"
   ]
  },
  {
   "cell_type": "code",
   "execution_count": null,
   "id": "fc01a201",
   "metadata": {},
   "outputs": [],
   "source": [
    "\"\"\"\n",
    "Additional Insights\n",
    "Beyond the basic demographics and survival correlations, the Titanic data reveals some intriguing patterns. Wealthier passengers, women, and children generally had higher survival rates, suggesting that social status and societal norms played a role in who was prioritized during the disaster. Traveling with family, particularly in smaller groups, appeared to improve survival chances, possibly due to mutual support. While less pronounced, the port of embarkation also showed a slight correlation with survival, hinting at potential differences in passenger demographics or cabin allocations across embarkation points.\n",
    "\n",
    "Potential Biases and Limitations\n",
    "It's crucial to acknowledge that the Titanic dataset has limitations. Missing data, particularly for age and cabin information, could introduce bias if it's not random. The dataset also represents a specific sample of passengers and might not be fully representative of the broader population. Furthermore, it focuses on survivors and casualties, neglecting those who might have avoided the tragedy altogether. Unrecorded factors like physical fitness or social connections could have also influenced survival. Finally, historical context is key, as maritime practices and safety regulations have evolved considerably since the Titanic era, potentially limiting the applicability of these findings to modern scenarios.\n",
    "\"\"\""
   ]
  },
  {
   "cell_type": "code",
   "execution_count": 39,
   "id": "b3a6a915",
   "metadata": {},
   "outputs": [
    {
     "data": {
      "image/png": "[encoded data removed]",
      "text/plain": [
       "<Figure size 432x288 with 1 Axes>"
      ]
     },
     "metadata": {
      "needs_background": "light"
     },
     "output_type": "display_data"
    },
    {
     "data": {
      "image/png": "[encoded data removed]",
      "text/plain": [
       "<Figure size 432x288 with 1 Axes>"
      ]
     },
     "metadata": {
      "needs_background": "light"
     },
     "output_type": "display_data"
    },
    {
     "data": {
      "image/png": "[encoded data removed]",
      "text/plain": [
       "<Figure size 432x288 with 1 Axes>"
      ]
     },
     "metadata": {
      "needs_background": "light"
     },
     "output_type": "display_data"
    },
    {
     "data": {
      "image/png": "[encoded data removed]",
      "text/plain": [
       "<Figure size 432x288 with 1 Axes>"
      ]
     },
     "metadata": {
      "needs_background": "light"
     },
     "output_type": "display_data"
    },
    {
     "data": {
      "image/png": "[encoded data removed]",
      "text/plain": [
       "<Figure size 432x288 with 1 Axes>"
      ]
     },
     "metadata": {
      "needs_background": "light"
     },
     "output_type": "display_data"
    },
    {
     "data": {
      "image/png": "[encoded data removed]",
      "text/plain": [
       "<Figure size 432x288 with 1 Axes>"
      ]
     },
     "metadata": {
      "needs_background": "light"
     },
     "output_type": "display_data"
    }
   ],
   "source": [
    "\n",
    "\n",
    "# Histogram of Age\n",
    "import matplotlib.pyplot as plt\n",
    "plt.hist(df['Age'].dropna(), bins=20)  # dropna() to remove missing values\n",
    "plt.xlabel('Age')\n",
    "plt.ylabel('Frequency')\n",
    "plt.title('Age Distribution')\n",
    "plt.show()\n",
    "\n",
    "# Histogram of Fare\n",
    "plt.hist(df['Fare'], bins=20)\n",
    "plt.xlabel('Fare')\n",
    "plt.ylabel('Frequency')\n",
    "plt.title('Fare Distribution')\n",
    "plt.show()\n",
    "\n",
    "# Box plot of Age by Pclass\n",
    "df.boxplot(column=['Age'], by=['Pclass'])\n",
    "plt.xlabel('Pclass')\n",
    "plt.ylabel('Age')\n",
    "plt.title('Age Distribution by Pclass')\n",
    "plt.show()\n",
    "\n",
    "# Box plot of Fare by Embarked\n",
    "df.boxplot(column=['Fare'], by=['Embarked'])\n",
    "plt.xlabel('Embarked')\n",
    "plt.ylabel('Fare')\n",
    "plt.title('Fare Distribution by Embarked')\n",
    "plt.show()\n",
    "\n",
    "# Bar plot of Survival Rate by Pclass\n",
    "survival_rate_by_pclass = df.groupby('Pclass')['Survived'].mean()\n",
    "survival_rate_by_pclass.plot(kind='bar')\n",
    "plt.xlabel('Pclass')\n",
    "plt.ylabel('Survival Rate')\n",
    "plt.title('Survival Rate by Pclass')\n",
    "plt.show()\n",
    "\n",
    "# Bar plot of Survival Rate by Sex\n",
    "survival_rate_by_sex = df.groupby('Sex')['Survived'].mean()\n",
    "survival_rate_by_sex.plot(kind='bar')\n",
    "plt.xlabel('Sex')\n",
    "plt.ylabel('Survival Rate')\n",
    "plt.title('Survival Rate by Sex')\n",
    "plt.show()\n"
   ]
  },
  {
   "cell_type": "code",
   "execution_count": null,
   "id": "88332859",
   "metadata": {},
   "outputs": [],
   "source": []
  }
 ],
 "metadata": {
  "kernelspec": {
   "display_name": "Python 3",
   "language": "python",
   "name": "python3"
  },
  "language_info": {
   "codemirror_mode": {
    "name": "ipython",
    "version": 3
   },
   "file_extension": ".py",
   "mimetype": "text/x-python",
   "name": "python",
   "nbconvert_exporter": "python",
   "pygments_lexer": "ipython3",
   "version": "3.8.8"
  }
 },
 "nbformat": 4,
 "nbformat_minor": 5
}
